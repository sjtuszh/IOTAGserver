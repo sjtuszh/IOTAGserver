{
 "cells": [
  {
   "cell_type": "markdown",
   "source": [
    "# MQTT Server\n",
    "\n",
    "## 简介\n",
    "这是一个基于Python的MQTT服务器后台，用于接收传感器数据和图像，并将其存储在SQLite数据库中。图像存储在固定文件夹中，数据库中保存图像路径索引。该项目还提供了一个Flask API，用于访问存储的数据。\n",
    "\n",
    "## 文件结构\n",
    "- `app.py`: 主Flask应用\n",
    "- `mqtt_client.py`: MQTT客户端和消息处理\n",
    "- `database.py`: 数据库初始化和操作\n",
    "- `config.py`: 配置文件（如MQTT代理地址、端口等）\n",
    "- `requirements.txt`: Python依赖包列表\n",
    "- `README.md`: 项目说明文档\n",
    "- `images/`: 存储接收到的图像\n",
    "\n",
    "## 安装\n",
    "```bash\n",
    "pip install -r requirements.txt\n",
    "```\n",
    "### 参考csdn博客\"Windows环境下安装配置Mosquitto服务及入门操作介绍\""
   ],
   "metadata": {
    "collapsed": false
   },
   "id": "8a97c0db17bd33d"
  },
  {
   "cell_type": "markdown",
   "source": [
    "# 运行方法：运行app.py初始化数据库和文件夹"
   ],
   "metadata": {
    "collapsed": false
   },
   "id": "d2da8e165e874a6d"
  },
  {
   "cell_type": "code",
   "outputs": [],
   "source": [],
   "metadata": {
    "collapsed": false
   },
   "id": "5db2069d752039e2"
  }
 ],
 "metadata": {
  "kernelspec": {
   "display_name": "Python 3",
   "language": "python",
   "name": "python3"
  },
  "language_info": {
   "codemirror_mode": {
    "name": "ipython",
    "version": 2
   },
   "file_extension": ".py",
   "mimetype": "text/x-python",
   "name": "python",
   "nbconvert_exporter": "python",
   "pygments_lexer": "ipython2",
   "version": "2.7.6"
  }
 },
 "nbformat": 4,
 "nbformat_minor": 5
}
